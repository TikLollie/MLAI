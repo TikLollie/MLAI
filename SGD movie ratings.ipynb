{
 "cells": [
  {
   "cell_type": "code",
   "execution_count": 19,
   "id": "76d6f591",
   "metadata": {},
   "outputs": [],
   "source": [
    "import pandas as pd\n",
    "import matplotlib.pyplot as plt\n",
    "\n",
    "import numpy as np\n",
    "import scipy.sparse as sparse\n",
    "import random\n",
    "import numpy as np\n",
    "import pandas as pd\n",
    "import matplotlib.pyplot as plt\n",
    "from subprocess import call\n",
    "from sklearn.metrics import mean_squared_error\n",
    "df = pd.read_csv(\"C:/Users/Carla/Documents/Untitled Folder/AMLAS/ml-latest-small/ml-latest-small/ratings.csv\")\n",
    "from math import sqrt\n",
    "from tqdm import tqdm\n",
    "import math"
   ]
  },
  {
   "cell_type": "code",
   "execution_count": 20,
   "id": "a309a04a",
   "metadata": {},
   "outputs": [],
   "source": [
    "uniqueMovies = df[\"movieId\"].unique()\n",
    "user = df[\"userId\"].unique()\n"
   ]
  },
  {
   "cell_type": "code",
   "execution_count": 21,
   "id": "cbaa58c8",
   "metadata": {},
   "outputs": [
    {
     "data": {
      "text/plain": [
       "<AxesSubplot:>"
      ]
     },
     "execution_count": 21,
     "metadata": {},
     "output_type": "execute_result"
    },
    {
     "data": {
      "image/png": "[encoded data removed]",
      "text/plain": [
       "<Figure size 432x288 with 1 Axes>"
      ]
     },
     "metadata": {
      "needs_background": "light"
     },
     "output_type": "display_data"
    }
   ],
   "source": [
    "fig, ax = plt.subplots()\n",
    "df['rating'].value_counts().plot(ax=ax, kind='bar')"
   ]
  },
  {
   "cell_type": "code",
   "execution_count": 22,
   "id": "8d3f38a2",
   "metadata": {},
   "outputs": [],
   "source": [
    "data = np.zeros((uniqueMovies.shape[0],2))\n",
    "\n",
    "for i in range(uniqueMovies.shape[0]):\n",
    "    data[i,0] = int(i)\n",
    "    data[i,1] = uniqueMovies[i]\n",
    "    \n",
    "    \n",
    "movieData = pd.DataFrame(data, columns = ['newId', 'movieId'])\n",
    "movieData\n",
    "\n",
    "def MovieIndx(df,id):\n",
    "    x = df.loc[df[\"movieId\"] == id]\n",
    "    y = x.iat[0,0]\n",
    "    return y\n",
    "\n",
    "def queryUser(df,id):\n",
    "    \n",
    "    return df.loc[df[\"userId\"] == id]\n",
    "\n",
    "\n",
    "def queryMovie(df,id):\n",
    "    \n",
    "    \n",
    "    return df.loc[df[\"movieId\"] == id]\n",
    "\n",
    "def revMovieIndx(df,id):\n",
    "    x = df.loc[df[\"newId\"] == id]\n",
    "    y = x.iat[0,1]\n",
    "\n",
    "    return y\n"
   ]
  },
  {
   "cell_type": "code",
   "execution_count": 6,
   "id": "097d2964",
   "metadata": {},
   "outputs": [
    {
     "data": {
      "text/plain": [
       "3.0"
      ]
     },
     "execution_count": 6,
     "metadata": {},
     "output_type": "execute_result"
    }
   ],
   "source": [
    "queryUser(df,3)\n",
    "queryMovie(df,3)\n",
    "MovieIndx(movieData,3)\n",
    "\n",
    "x = revMovieIndx(movieData,1)\n",
    "\n",
    "movieData\n",
    "x"
   ]
  },
  {
   "cell_type": "code",
   "execution_count": 7,
   "id": "ab35e884",
   "metadata": {},
   "outputs": [],
   "source": [
    "train = df"
   ]
  },
  {
   "cell_type": "code",
   "execution_count": 24,
   "id": "2f00d698",
   "metadata": {},
   "outputs": [],
   "source": [
    "def fit(train,n_factors,n_iters,movieData):\n",
    "    \n",
    "    \n",
    " \n",
    "    lambda_1 = 1\n",
    "    tau = 0.01\n",
    "    lr = 0.05\n",
    "    \n",
    "    n_users, n_movies = len(train[\"userId\"].unique()),len(train[\"movieId\"].unique())\n",
    "    user_factors = np.random.normal(0,sqrt(lambda_1),size = (n_factors,n_users))\n",
    "    movie_factors = np.random.normal(0,sqrt(lambda_1),size = (n_factors,n_movies))\n",
    "    \n",
    "    \n",
    "    mse_record = []\n",
    "    \n",
    "    its = 0\n",
    "    \n",
    "    for i in range(n_iters):\n",
    "        \n",
    "        movie_factors, user_factors,rmse = updates(train,movie_factors,user_factors,lr)\n",
    "\n",
    "        \n",
    "        mse_record = np.append(mse_record,rmse)\n",
    "\n",
    "        its = its + 1\n",
    "\n",
    "\n",
    "    return mse_record\n",
    "\n",
    "\n",
    "mse = fit(train,10,100,movieData)"
   ]
  },
  {
   "cell_type": "code",
   "execution_count": 25,
   "id": "444fc439",
   "metadata": {},
   "outputs": [
    {
     "ename": "ValueError",
     "evalue": "x and y must have same first dimension, but have shapes (5,) and (100,)",
     "output_type": "error",
     "traceback": [
      "\u001b[1;31m---------------------------------------------------------------------------\u001b[0m",
      "\u001b[1;31mValueError\u001b[0m                                Traceback (most recent call last)",
      "\u001b[1;32m~\\AppData\\Local\\Temp/ipykernel_11384/215205858.py\u001b[0m in \u001b[0;36m<module>\u001b[1;34m\u001b[0m\n\u001b[0;32m      1\u001b[0m \u001b[0mx\u001b[0m \u001b[1;33m=\u001b[0m\u001b[0mnp\u001b[0m\u001b[1;33m.\u001b[0m\u001b[0mlinspace\u001b[0m\u001b[1;33m(\u001b[0m\u001b[1;36m0\u001b[0m\u001b[1;33m,\u001b[0m\u001b[1;36m5\u001b[0m\u001b[1;33m,\u001b[0m\u001b[1;36m5\u001b[0m\u001b[1;33m)\u001b[0m\u001b[1;33m\u001b[0m\u001b[1;33m\u001b[0m\u001b[0m\n\u001b[1;32m----> 2\u001b[1;33m \u001b[0mplt\u001b[0m\u001b[1;33m.\u001b[0m\u001b[0mplot\u001b[0m\u001b[1;33m(\u001b[0m\u001b[0mx\u001b[0m\u001b[1;33m,\u001b[0m\u001b[0mmse\u001b[0m\u001b[1;33m)\u001b[0m\u001b[1;33m\u001b[0m\u001b[1;33m\u001b[0m\u001b[0m\n\u001b[0m\u001b[0;32m      3\u001b[0m \u001b[0mmse\u001b[0m\u001b[1;33m\u001b[0m\u001b[1;33m\u001b[0m\u001b[0m\n",
      "\u001b[1;32mS:\\Anaconda\\lib\\site-packages\\matplotlib\\pyplot.py\u001b[0m in \u001b[0;36mplot\u001b[1;34m(scalex, scaley, data, *args, **kwargs)\u001b[0m\n\u001b[0;32m   3017\u001b[0m \u001b[1;33m@\u001b[0m\u001b[0m_copy_docstring_and_deprecators\u001b[0m\u001b[1;33m(\u001b[0m\u001b[0mAxes\u001b[0m\u001b[1;33m.\u001b[0m\u001b[0mplot\u001b[0m\u001b[1;33m)\u001b[0m\u001b[1;33m\u001b[0m\u001b[1;33m\u001b[0m\u001b[0m\n\u001b[0;32m   3018\u001b[0m \u001b[1;32mdef\u001b[0m \u001b[0mplot\u001b[0m\u001b[1;33m(\u001b[0m\u001b[1;33m*\u001b[0m\u001b[0margs\u001b[0m\u001b[1;33m,\u001b[0m \u001b[0mscalex\u001b[0m\u001b[1;33m=\u001b[0m\u001b[1;32mTrue\u001b[0m\u001b[1;33m,\u001b[0m \u001b[0mscaley\u001b[0m\u001b[1;33m=\u001b[0m\u001b[1;32mTrue\u001b[0m\u001b[1;33m,\u001b[0m \u001b[0mdata\u001b[0m\u001b[1;33m=\u001b[0m\u001b[1;32mNone\u001b[0m\u001b[1;33m,\u001b[0m \u001b[1;33m**\u001b[0m\u001b[0mkwargs\u001b[0m\u001b[1;33m)\u001b[0m\u001b[1;33m:\u001b[0m\u001b[1;33m\u001b[0m\u001b[1;33m\u001b[0m\u001b[0m\n\u001b[1;32m-> 3019\u001b[1;33m     return gca().plot(\n\u001b[0m\u001b[0;32m   3020\u001b[0m         \u001b[1;33m*\u001b[0m\u001b[0margs\u001b[0m\u001b[1;33m,\u001b[0m \u001b[0mscalex\u001b[0m\u001b[1;33m=\u001b[0m\u001b[0mscalex\u001b[0m\u001b[1;33m,\u001b[0m \u001b[0mscaley\u001b[0m\u001b[1;33m=\u001b[0m\u001b[0mscaley\u001b[0m\u001b[1;33m,\u001b[0m\u001b[1;33m\u001b[0m\u001b[1;33m\u001b[0m\u001b[0m\n\u001b[0;32m   3021\u001b[0m         **({\"data\": data} if data is not None else {}), **kwargs)\n",
      "\u001b[1;32mS:\\Anaconda\\lib\\site-packages\\matplotlib\\axes\\_axes.py\u001b[0m in \u001b[0;36mplot\u001b[1;34m(self, scalex, scaley, data, *args, **kwargs)\u001b[0m\n\u001b[0;32m   1603\u001b[0m         \"\"\"\n\u001b[0;32m   1604\u001b[0m         \u001b[0mkwargs\u001b[0m \u001b[1;33m=\u001b[0m \u001b[0mcbook\u001b[0m\u001b[1;33m.\u001b[0m\u001b[0mnormalize_kwargs\u001b[0m\u001b[1;33m(\u001b[0m\u001b[0mkwargs\u001b[0m\u001b[1;33m,\u001b[0m \u001b[0mmlines\u001b[0m\u001b[1;33m.\u001b[0m\u001b[0mLine2D\u001b[0m\u001b[1;33m)\u001b[0m\u001b[1;33m\u001b[0m\u001b[1;33m\u001b[0m\u001b[0m\n\u001b[1;32m-> 1605\u001b[1;33m         \u001b[0mlines\u001b[0m \u001b[1;33m=\u001b[0m \u001b[1;33m[\u001b[0m\u001b[1;33m*\u001b[0m\u001b[0mself\u001b[0m\u001b[1;33m.\u001b[0m\u001b[0m_get_lines\u001b[0m\u001b[1;33m(\u001b[0m\u001b[1;33m*\u001b[0m\u001b[0margs\u001b[0m\u001b[1;33m,\u001b[0m \u001b[0mdata\u001b[0m\u001b[1;33m=\u001b[0m\u001b[0mdata\u001b[0m\u001b[1;33m,\u001b[0m \u001b[1;33m**\u001b[0m\u001b[0mkwargs\u001b[0m\u001b[1;33m)\u001b[0m\u001b[1;33m]\u001b[0m\u001b[1;33m\u001b[0m\u001b[1;33m\u001b[0m\u001b[0m\n\u001b[0m\u001b[0;32m   1606\u001b[0m         \u001b[1;32mfor\u001b[0m \u001b[0mline\u001b[0m \u001b[1;32min\u001b[0m \u001b[0mlines\u001b[0m\u001b[1;33m:\u001b[0m\u001b[1;33m\u001b[0m\u001b[1;33m\u001b[0m\u001b[0m\n\u001b[0;32m   1607\u001b[0m             \u001b[0mself\u001b[0m\u001b[1;33m.\u001b[0m\u001b[0madd_line\u001b[0m\u001b[1;33m(\u001b[0m\u001b[0mline\u001b[0m\u001b[1;33m)\u001b[0m\u001b[1;33m\u001b[0m\u001b[1;33m\u001b[0m\u001b[0m\n",
      "\u001b[1;32mS:\\Anaconda\\lib\\site-packages\\matplotlib\\axes\\_base.py\u001b[0m in \u001b[0;36m__call__\u001b[1;34m(self, data, *args, **kwargs)\u001b[0m\n\u001b[0;32m    313\u001b[0m                 \u001b[0mthis\u001b[0m \u001b[1;33m+=\u001b[0m \u001b[0margs\u001b[0m\u001b[1;33m[\u001b[0m\u001b[1;36m0\u001b[0m\u001b[1;33m]\u001b[0m\u001b[1;33m,\u001b[0m\u001b[1;33m\u001b[0m\u001b[1;33m\u001b[0m\u001b[0m\n\u001b[0;32m    314\u001b[0m                 \u001b[0margs\u001b[0m \u001b[1;33m=\u001b[0m \u001b[0margs\u001b[0m\u001b[1;33m[\u001b[0m\u001b[1;36m1\u001b[0m\u001b[1;33m:\u001b[0m\u001b[1;33m]\u001b[0m\u001b[1;33m\u001b[0m\u001b[1;33m\u001b[0m\u001b[0m\n\u001b[1;32m--> 315\u001b[1;33m             \u001b[1;32myield\u001b[0m \u001b[1;32mfrom\u001b[0m \u001b[0mself\u001b[0m\u001b[1;33m.\u001b[0m\u001b[0m_plot_args\u001b[0m\u001b[1;33m(\u001b[0m\u001b[0mthis\u001b[0m\u001b[1;33m,\u001b[0m \u001b[0mkwargs\u001b[0m\u001b[1;33m)\u001b[0m\u001b[1;33m\u001b[0m\u001b[1;33m\u001b[0m\u001b[0m\n\u001b[0m\u001b[0;32m    316\u001b[0m \u001b[1;33m\u001b[0m\u001b[0m\n\u001b[0;32m    317\u001b[0m     \u001b[1;32mdef\u001b[0m \u001b[0mget_next_color\u001b[0m\u001b[1;33m(\u001b[0m\u001b[0mself\u001b[0m\u001b[1;33m)\u001b[0m\u001b[1;33m:\u001b[0m\u001b[1;33m\u001b[0m\u001b[1;33m\u001b[0m\u001b[0m\n",
      "\u001b[1;32mS:\\Anaconda\\lib\\site-packages\\matplotlib\\axes\\_base.py\u001b[0m in \u001b[0;36m_plot_args\u001b[1;34m(self, tup, kwargs, return_kwargs)\u001b[0m\n\u001b[0;32m    499\u001b[0m \u001b[1;33m\u001b[0m\u001b[0m\n\u001b[0;32m    500\u001b[0m         \u001b[1;32mif\u001b[0m \u001b[0mx\u001b[0m\u001b[1;33m.\u001b[0m\u001b[0mshape\u001b[0m\u001b[1;33m[\u001b[0m\u001b[1;36m0\u001b[0m\u001b[1;33m]\u001b[0m \u001b[1;33m!=\u001b[0m \u001b[0my\u001b[0m\u001b[1;33m.\u001b[0m\u001b[0mshape\u001b[0m\u001b[1;33m[\u001b[0m\u001b[1;36m0\u001b[0m\u001b[1;33m]\u001b[0m\u001b[1;33m:\u001b[0m\u001b[1;33m\u001b[0m\u001b[1;33m\u001b[0m\u001b[0m\n\u001b[1;32m--> 501\u001b[1;33m             raise ValueError(f\"x and y must have same first dimension, but \"\n\u001b[0m\u001b[0;32m    502\u001b[0m                              f\"have shapes {x.shape} and {y.shape}\")\n\u001b[0;32m    503\u001b[0m         \u001b[1;32mif\u001b[0m \u001b[0mx\u001b[0m\u001b[1;33m.\u001b[0m\u001b[0mndim\u001b[0m \u001b[1;33m>\u001b[0m \u001b[1;36m2\u001b[0m \u001b[1;32mor\u001b[0m \u001b[0my\u001b[0m\u001b[1;33m.\u001b[0m\u001b[0mndim\u001b[0m \u001b[1;33m>\u001b[0m \u001b[1;36m2\u001b[0m\u001b[1;33m:\u001b[0m\u001b[1;33m\u001b[0m\u001b[1;33m\u001b[0m\u001b[0m\n",
      "\u001b[1;31mValueError\u001b[0m: x and y must have same first dimension, but have shapes (5,) and (100,)"
     ]
    },
    {
     "data": {
      "image/png": "[encoded data removed]",
      "text/plain": [
       "<Figure size 432x288 with 1 Axes>"
      ]
     },
     "metadata": {
      "needs_background": "light"
     },
     "output_type": "display_data"
    }
   ],
   "source": [
    "x =np.linspace(0,5,5)\n",
    "plt.plot(x,mse)\n",
    "mse\n"
   ]
  },
  {
   "cell_type": "code",
   "execution_count": null,
   "id": "4254c2a1",
   "metadata": {},
   "outputs": [],
   "source": []
  },
  {
   "cell_type": "code",
   "execution_count": 23,
   "id": "4fdfebe5",
   "metadata": {},
   "outputs": [],
   "source": [
    "def updates(df,movie_factors,user_factors,lr):\n",
    "    \n",
    "   \n",
    "    cum_error =0\n",
    "    c = 0\n",
    "    for row in df.itertuples(index = False):\n",
    "        hold_user_factors = np.zeros([user_factors.shape[0],1])\n",
    "        hold_movie_factors = np.zeros([user_factors.shape[0],1])\n",
    "        \n",
    "        y_true = row.rating\n",
    "        user = row.userId-1\n",
    "        movie = int(MovieIndx(movieData,row.movieId))\n",
    "        \n",
    "        c = c +1\n",
    "        uf = np.reshape(user_factors[:,user],(user_factors.shape[0],1))\n",
    "        mf = np.reshape(movie_factors[:,movie],(user_factors.shape[0],1))\n",
    "        \n",
    "        y_pred = uf.T@mf\n",
    "        \n",
    "        hold_user_factors[:,0] = user_factors[:,user]\n",
    "        hold_movie_factors[:,0] = movie_factors[:,movie]\n",
    "        \n",
    "        error = y_true - y_pred\n",
    "        \n",
    "#         for i in range(user_factors.shape[0]):\n",
    "            \n",
    "#             hold_user_factors = user_factors[i,user]\n",
    "#             hold_movie_factors = movie_factors[i,movie]\n",
    "#             movie_factors[i,movie] = hold_movie_factors + alpha*(2*error*hold_user_factors - beta*hold_movie_factors)\n",
    "#             user_factors[i,user] = hold_user_factors + alpha*(2*error*hold_movie_factors - beta*hold_user_factors)\n",
    "        \n",
    "        movie_factors[:,movie] = hold_movie_factors[:,0]+lr*error*hold_user_factors[:,0].T\n",
    "        user_factors[:,user] = hold_user_factors[:,0] + lr*error*hold_movie_factors[:,0].T\n",
    "        \n",
    "        cum_error = cum_error + (y_true - y_pred)**2\n",
    "        rmse = sqrt((1/c)*cum_error)\n",
    "        \n",
    "#         for i in range(user_factors.shape[0]):\n",
    "#             cum_error = cum_error + (beta/2) * (user_factors[i,user]**2+ movie_factors[i,movie]**2)\n",
    "        \n",
    "        \n",
    "    return movie_factors, user_factors,rmse"
   ]
  },
  {
   "cell_type": "code",
   "execution_count": null,
   "id": "b5c234bb",
   "metadata": {},
   "outputs": [],
   "source": [
    "def updates1(df,movie_factors,user_factors,lr):\n",
    "\n",
    "    cum_error =0\n",
    "    c = 0\n",
    "    for row in df.itertuples(index = False):\n",
    "        hold_user_factors = np.zeros([user_factors.shape[0],1])\n",
    "        hold_movie_factors = np.zeros([user_factors.shape[0],1])\n",
    "        \n",
    "        y_true = row.rating\n",
    "        user = row.userId-1\n",
    "        movie = int(MovieIndx(movieData,row.movieId))\n",
    "        \n",
    "        c = c +1\n",
    "        l_uf = np.log(np.reshape(user_factors[:,user],(user_factors.shape[0],1)))\n",
    "        l_mf = np.log(np.reshape(movie_factors[:,movie],(user_factors.shape[0],1)))\n",
    "        \n",
    "        y_pred = uf.T@mf\n",
    "        \n",
    "        hold_user_factors[:,0] = user_factors[:,user]\n",
    "        hold_movie_factors[:,0] = movie_factors[:,movie]\n",
    "        \n",
    "        error = y_true - y_pred\n",
    "        \n",
    "#         for i in range(user_factors.shape[0]):\n",
    "            \n",
    "#             hold_user_factors = user_factors[i,user]\n",
    "#             hold_movie_factors = movie_factors[i,movie]\n",
    "#             movie_factors[i,movie] = hold_movie_factors + alpha*(2*error*hold_user_factors - beta*hold_movie_factors)\n",
    "#             user_factors[i,user] = hold_user_factors + alpha*(2*error*hold_movie_factors - beta*hold_user_factors)\n",
    "        \n",
    "        movie_factors[:,movie] = hold_movie_factors[:,0] +2*lr*error*hold_user_factors[:,0].T\n",
    "        user_factors[:,user] = hold_user_factors[:,0] +2*lr*error*hold_movie_factors[:,0].T\n",
    "        \n",
    "        cum_error = cum_error + (y_true - y_pred)**2\n",
    "    \n",
    "        \n",
    "#         for i in range(user_factors.shape[0]):\n",
    "#             cum_error = cum_error + (beta/2) * (user_factors[i,user]**2+ movie_factors[i,movie]**2)\n",
    "        \n",
    "        \n",
    "    return movie_factors, user_factors,cum_error"
   ]
  }
 ],
 "metadata": {
  "kernelspec": {
   "display_name": "Python 3 (ipykernel)",
   "language": "python",
   "name": "python3"
  },
  "language_info": {
   "codemirror_mode": {
    "name": "ipython",
    "version": 3
   },
   "file_extension": ".py",
   "mimetype": "text/x-python",
   "name": "python",
   "nbconvert_exporter": "python",
   "pygments_lexer": "ipython3",
   "version": "3.9.7"
  }
 },
 "nbformat": 4,
 "nbformat_minor": 5
}
